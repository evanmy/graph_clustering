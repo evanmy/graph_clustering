{
 "cells": [
  {
   "cell_type": "markdown",
   "metadata": {},
   "source": [
    "### Libraries"
   ]
  },
  {
   "cell_type": "code",
   "execution_count": 1,
   "metadata": {},
   "outputs": [
    {
     "name": "stdout",
     "output_type": "stream",
     "text": [
      "elbowAnalysis\n",
      "silhouetteAnalyis\n"
     ]
    }
   ],
   "source": [
    "import utils\n",
    "import scipy\n",
    "import random\n",
    "import matplotlib\n",
    "import tools as t\n",
    "import numpy as np\n",
    "import pandas as pd\n",
    "import seaborn as sns\n",
    "import networkx as nx \n",
    "from tqdm import tqdm\n",
    "import matplotlib.pyplot as plt\n",
    "\n",
    "from scipy import spatial\n",
    "from numpy import linalg as LA\n",
    "from collections import Counter\n",
    "from scipy.sparse import csgraph\n",
    "from scipy.sparse import csr_matrix\n",
    "from tqdm.notebook import tqdm as tqdm\n",
    "from mpl_toolkits.mplot3d import Axes3D\n",
    "from sklearn.metrics import pairwise_kernels\n",
    "from sklearn.metrics.pairwise import rbf_kernel\n",
    "from networkx.algorithms.cuts import conductance\n",
    "from scipy.sparse.csgraph import connected_components\n",
    "from sklearn.datasets.samples_generator import make_blobs\n",
    "from sklearn.cluster import SpectralClustering, AffinityPropagation\n",
    "\n",
    "sns.set_style('darkgrid')\n",
    "%matplotlib inline"
   ]
  },
  {
   "cell_type": "markdown",
   "metadata": {},
   "source": [
    "### Hyperparmeters"
   ]
  },
  {
   "cell_type": "code",
   "execution_count": 2,
   "metadata": {},
   "outputs": [],
   "source": [
    "beta = 0.005"
   ]
  },
  {
   "cell_type": "markdown",
   "metadata": {},
   "source": [
    "### Init and Load Data"
   ]
  },
  {
   "cell_type": "code",
   "execution_count": 3,
   "metadata": {},
   "outputs": [],
   "source": [
    "data = np.load('/home/zz452/cluster/data/modelTishby_0_layer_data.p')\n",
    "layer = data[-2] \n",
    "n_epochs, n_sample, n_dim = layer.shape\n",
    "layer = np.random.randn(n_epochs, n_sample, n_dim)*(beta**2) + layer "
   ]
  },
  {
   "cell_type": "markdown",
   "metadata": {},
   "source": [
    "### Estimate cluster in each epochs"
   ]
  },
  {
   "cell_type": "code",
   "execution_count": 4,
   "metadata": {},
   "outputs": [
    {
     "data": {
      "application/vnd.jupyter.widget-view+json": {
       "model_id": "fb86439a0c7b4cc4bc2104e4543384dd",
       "version_major": 2,
       "version_minor": 0
      },
      "text/plain": [
       "HBox(children=(IntProgress(value=0, max=84), HTML(value='')))"
      ]
     },
     "metadata": {},
     "output_type": "display_data"
    },
    {
     "name": "stdout",
     "output_type": "stream",
     "text": [
      "\n"
     ]
    },
    {
     "data": {
      "application/vnd.jupyter.widget-view+json": {
       "model_id": "defdedbc389948f2a7f071dd5dd4f315",
       "version_major": 2,
       "version_minor": 0
      },
      "text/plain": [
       "HBox(children=(IntProgress(value=0, max=84), HTML(value='')))"
      ]
     },
     "metadata": {},
     "output_type": "display_data"
    },
    {
     "name": "stdout",
     "output_type": "stream",
     "text": [
      "\n"
     ]
    }
   ],
   "source": [
    "gamma = []\n",
    "for i in tqdm(range(n_epochs)):\n",
    "    M_d = spatial.distance_matrix(layer[i,:,:],\n",
    "                                  layer[i,:,:],\n",
    "                                  p=2)**2\n",
    "    \n",
    "    gamma += [1/M_d.flatten().max()]\n",
    "gamma = np.mean(gamma)    \n",
    "\n",
    "clusters = []\n",
    "for i in tqdm(range(n_epochs)):\n",
    "    affinity_matrix = rbf_kernel(layer[i,:,:],  \n",
    "                                 gamma=1)\n",
    "    k,  _, _ = t.eigenDecomposition(affinity_matrix, plot=False)\n",
    "    clusters += [k[0]]\n",
    "    \n",
    "clusters = np.hstack(clusters)\n",
    "clusters = clusters.flatten()"
   ]
  },
  {
   "cell_type": "markdown",
   "metadata": {},
   "source": [
    "### Spectral Clustering in each epochs"
   ]
  },
  {
   "cell_type": "code",
   "execution_count": 5,
   "metadata": {},
   "outputs": [
    {
     "data": {
      "application/vnd.jupyter.widget-view+json": {
       "model_id": "406dfe5c7e0e429c8b2c01f0eafb7765",
       "version_major": 2,
       "version_minor": 0
      },
      "text/plain": [
       "HBox(children=(IntProgress(value=0, max=84), HTML(value='')))"
      ]
     },
     "metadata": {},
     "output_type": "display_data"
    },
    {
     "name": "stdout",
     "output_type": "stream",
     "text": [
      "\n"
     ]
    }
   ],
   "source": [
    "cluster_labels = []\n",
    "for i in tqdm(range(n_epochs)):\n",
    "    nb_clusters = clusters[i]\n",
    "    \n",
    "    if nb_clusters == 1:\n",
    "        cluster_labels += [np.zeros(n_sample).astype('int')]\n",
    "    else:\n",
    "        sc = SpectralClustering(n_clusters= nb_clusters,\n",
    "                                assign_labels= \"discretize\",\n",
    "                                random_state= 0,\n",
    "                                affinity= 'rbf', \n",
    "                                gamma= 1).fit(layer[i,:,:])\n",
    "        cluster_labels += [sc.labels_]"
   ]
  },
  {
   "cell_type": "markdown",
   "metadata": {},
   "source": [
    "### Closeness Centrality"
   ]
  },
  {
   "cell_type": "code",
   "execution_count": 6,
   "metadata": {},
   "outputs": [
    {
     "data": {
      "application/vnd.jupyter.widget-view+json": {
       "model_id": "a8ea3f133f9d44e8a42028513072e520",
       "version_major": 2,
       "version_minor": 0
      },
      "text/plain": [
       "HBox(children=(IntProgress(value=0, max=84), HTML(value='')))"
      ]
     },
     "metadata": {},
     "output_type": "display_data"
    },
    {
     "name": "stdout",
     "output_type": "stream",
     "text": [
      "\n"
     ]
    }
   ],
   "source": [
    "cc = []\n",
    "for i in tqdm(range(n_epochs)):\n",
    "    labels = cluster_labels[i]\n",
    "    \n",
    "    label_closeness = []\n",
    "    for y in np.unique(labels):\n",
    "        label_idx = (labels == y)\n",
    "        x = layer[i,:,:][label_idx]\n",
    "        upper_half = np.triu_indices(x.shape[0], k=1)\n",
    "        M_d = spatial.distance_matrix(x,\n",
    "                                      x,\n",
    "                                      p=2)**2\n",
    "         \n",
    "        label_closeness += [1/M_d[upper_half].mean()]\n",
    "        \n",
    "    cc += [np.mean(label_closeness)]"
   ]
  },
  {
   "cell_type": "markdown",
   "metadata": {},
   "source": [
    "### MI Proxy"
   ]
  },
  {
   "cell_type": "code",
   "execution_count": 7,
   "metadata": {},
   "outputs": [
    {
     "data": {
      "text/plain": [
       "Text(0.5, 0, 'Epoch')"
      ]
     },
     "execution_count": 7,
     "metadata": {},
     "output_type": "execute_result"
    },
    {
     "data": {
      "image/png": "[encoded data removed]",
      "text/plain": [
       "<Figure size 432x288 with 1 Axes>"
      ]
     },
     "metadata": {},
     "output_type": "display_data"
    }
   ],
   "source": [
    "epoch_subsample = np.unique(np.round(np.logspace(np.log10(1), \n",
    "                                                 np.log10(9999), \n",
    "                                                 num=100,\n",
    "                                                 endpoint=True)).astype(int))\n",
    "plt.semilogx(epoch_subsample,1/np.array(cc))\n",
    "plt.ylabel('MI proxy')\n",
    "plt.xlabel('Epoch')"
   ]
  }
 ],
 "metadata": {
  "kernelspec": {
   "display_name": "Python 3",
   "language": "python",
   "name": "python3"
  },
  "language_info": {
   "codemirror_mode": {
    "name": "ipython",
    "version": 3
   },
   "file_extension": ".py",
   "mimetype": "text/x-python",
   "name": "python",
   "nbconvert_exporter": "python",
   "pygments_lexer": "ipython3",
   "version": "3.6.8"
  }
 },
 "nbformat": 4,
 "nbformat_minor": 2
}
