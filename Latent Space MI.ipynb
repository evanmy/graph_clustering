{
 "cells": [
  {
   "cell_type": "markdown",
   "metadata": {},
   "source": [
    "### Libraries"
   ]
  },
  {
   "cell_type": "code",
   "execution_count": 1,
   "metadata": {},
   "outputs": [],
   "source": [
    "import matplotlib\n",
    "import tools as t\n",
    "import numpy as np\n",
    "import seaborn as sns\n",
    "import matplotlib.pyplot as plt\n",
    "\n",
    "from scipy import spatial\n",
    "from scipy.sparse import csr_matrix\n",
    "from tqdm.notebook import tqdm as tqdm\n",
    "from mpl_toolkits.mplot3d import Axes3D\n",
    "from scipy.sparse.csgraph import connected_components\n",
    "\n",
    "sns.set_style('darkgrid')\n",
    "%matplotlib inline"
   ]
  },
  {
   "cell_type": "code",
   "execution_count": null,
   "metadata": {},
   "outputs": [],
   "source": [
    "eigh"
   ]
  },
  {
   "cell_type": "markdown",
   "metadata": {},
   "source": [
    "### Hyperparameters"
   ]
  },
  {
   "cell_type": "code",
   "execution_count": 5,
   "metadata": {},
   "outputs": [],
   "source": [
    "l = 500\n",
    "n_verts = 30"
   ]
  },
  {
   "cell_type": "markdown",
   "metadata": {},
   "source": [
    "### Test Clusters"
   ]
  },
  {
   "cell_type": "code",
   "execution_count": 6,
   "metadata": {},
   "outputs": [
    {
     "data": {
      "application/vnd.jupyter.widget-view+json": {
       "model_id": "8f759528dbe24f0185bd461bb6278d50",
       "version_major": 2,
       "version_minor": 0
      },
      "text/plain": [
       "HBox(children=(IntProgress(value=0, max=84), HTML(value='')))"
      ]
     },
     "metadata": {},
     "output_type": "display_data"
    },
    {
     "name": "stdout",
     "output_type": "stream",
     "text": [
      "1 islands\n",
      "k=1 Good amount of clustering (･o･)\n",
      "1 islands\n",
      "k=1 Good amount of clustering (･o･)\n",
      "1 islands\n",
      "k=1 Good amount of clustering (･o･)\n",
      "1 islands\n",
      "k=1 Good amount of clustering (･o･)\n",
      "1 islands\n",
      "k=1 Good amount of clustering (･o･)\n",
      "1 islands\n",
      "k=1 Good amount of clustering (･o･)\n",
      "1 islands\n",
      "k=1 Good amount of clustering (･o･)\n",
      "1 islands\n",
      "k=1 Good amount of clustering (･o･)\n",
      "1 islands\n",
      "k=1 Good amount of clustering (･o･)\n",
      "1 islands\n",
      "k=1 Good amount of clustering (･o･)\n",
      "1 islands\n",
      "k=1 Good amount of clustering (･o･)\n",
      "1 islands\n",
      "k=1 Good amount of clustering (･o･)\n",
      "1 islands\n",
      "k=1 Good amount of clustering (･o･)\n",
      "1 islands\n",
      "k=1 Good amount of clustering (･o･)\n",
      "1 islands\n",
      "k=1 Good amount of clustering (･o･)\n",
      "1 islands\n",
      "k=1 Good amount of clustering (･o･)\n",
      "1 islands\n",
      "k=1 Good amount of clustering (･o･)\n",
      "1 islands\n",
      "k=1 Good amount of clustering (･o･)\n",
      "1 islands\n",
      "k=1 Good amount of clustering (･o･)\n",
      "1 islands\n",
      "k=1 Good amount of clustering (･o･)\n",
      "1 islands\n",
      "k=1 Good amount of clustering (･o･)\n",
      "1 islands\n",
      "k=1 Good amount of clustering (･o･)\n",
      "1 islands\n",
      "k=1 Good amount of clustering (･o･)\n",
      "1 islands\n",
      "k=1 Good amount of clustering (･o･)\n",
      "1 islands\n",
      "k=1 Good amount of clustering (･o･)\n",
      "1 islands\n",
      "k=1 Good amount of clustering (･o･)\n",
      "1 islands\n",
      "k=1 Good amount of clustering (･o･)\n",
      "1 islands\n",
      "k=1 Good amount of clustering (･o･)\n",
      "1 islands\n",
      "k=1 Good amount of clustering (･o･)\n",
      "1 islands\n",
      "k=1 Good amount of clustering (･o･)\n",
      "1 islands\n",
      "k=1 Good amount of clustering (･o･)\n",
      "1 islands\n",
      "k=1 Good amount of clustering (･o･)\n",
      "1 islands\n",
      "k=1 Good amount of clustering (･o･)\n",
      "1 islands\n",
      "k=1 Good amount of clustering (･o･)\n",
      "1 islands\n",
      "k=1 Good amount of clustering (･o･)\n",
      "1 islands\n",
      "k=1 Good amount of clustering (･o･)\n",
      "1 islands\n",
      "k=1 Good amount of clustering (･o･)\n",
      "1 islands\n",
      "k=1 Good amount of clustering (･o･)\n",
      "1 islands\n",
      "k=1 Good amount of clustering (･o･)\n",
      "1 islands\n",
      "k=1 Good amount of clustering (･o･)\n",
      "1 islands\n",
      "k=1 Good amount of clustering (･o･)\n",
      "1 islands\n",
      "k=1 Good amount of clustering (･o･)\n",
      "1 islands\n",
      "k=1 Good amount of clustering (･o･)\n",
      "1 islands\n",
      "k=1 Good amount of clustering (･o･)\n",
      "1 islands\n",
      "k=1 Good amount of clustering (･o･)\n",
      "1 islands\n",
      "k=1 Good amount of clustering (･o･)\n",
      "1 islands\n",
      "k=1 Good amount of clustering (･o･)\n",
      "1 islands\n",
      "k=1 Good amount of clustering (･o･)\n",
      "1 islands\n",
      "k=1 Good amount of clustering (･o･)\n",
      "1 islands\n",
      "k=1 Good amount of clustering (･o･)\n",
      "1 islands\n",
      "k=1 Good amount of clustering (･o･)\n",
      "1 islands\n",
      "k=1 Good amount of clustering (･o･)\n",
      "1 islands\n",
      "k=1 Good amount of clustering (･o･)\n",
      "1 islands\n",
      "k=1 Good amount of clustering (･o･)\n",
      "1 islands\n",
      "k=1 Good amount of clustering (･o･)\n",
      "1 islands\n",
      "k=1 Good amount of clustering (･o･)\n",
      "1 islands\n",
      "k=1 Good amount of clustering (･o･)\n",
      "1 islands\n",
      "k=1 Good amount of clustering (･o･)\n",
      "1 islands\n",
      "k=1 Good amount of clustering (･o･)\n",
      "1 islands\n",
      "k=1 Good amount of clustering (･o･)\n",
      "1 islands\n",
      "k=1 Good amount of clustering (･o･)\n",
      "1 islands\n",
      "k=1 Good amount of clustering (･o･)\n",
      "1 islands\n",
      "k=1 Good amount of clustering (･o･)\n",
      "1 islands\n",
      "k=1 Good amount of clustering (･o･)\n",
      "1 islands\n",
      "k=1 Good amount of clustering (･o･)\n",
      "1 islands\n",
      "k=1 Good amount of clustering (･o･)\n",
      "1 islands\n",
      "k=1 Good amount of clustering (･o･)\n",
      "1 islands\n",
      "k=1 Good amount of clustering (･o･)\n",
      "1 islands\n",
      "k=1 Good amount of clustering (･o･)\n",
      "2 islands\n",
      "k=1 Need more clustering （・∩・)\n",
      "2 islands\n",
      "k=2 Good amount of clustering (･o･)\n",
      "2 islands\n",
      "k=1 Need more clustering （・∩・)\n",
      "2 islands\n",
      "k=2 Good amount of clustering (･o･)\n",
      "2 islands\n",
      "k=1 Need more clustering （・∩・)\n",
      "2 islands\n",
      "k=2 Good amount of clustering (･o･)\n",
      "2 islands\n",
      "k=1 Need more clustering （・∩・)\n",
      "2 islands\n",
      "k=2 Good amount of clustering (･o･)\n",
      "2 islands\n",
      "k=1 Need more clustering （・∩・)\n",
      "2 islands\n",
      "k=2 Good amount of clustering (･o･)\n",
      "2 islands\n",
      "k=1 Need more clustering （・∩・)\n",
      "2 islands\n",
      "k=2 Good amount of clustering (･o･)\n",
      "2 islands\n",
      "k=1 Need more clustering （・∩・)\n",
      "2 islands\n",
      "k=2 Good amount of clustering (･o･)\n",
      "2 islands\n",
      "k=1 Need more clustering （・∩・)\n",
      "2 islands\n",
      "k=2 Good amount of clustering (･o･)\n",
      "2 islands\n",
      "k=1 Need more clustering （・∩・)\n",
      "2 islands\n",
      "k=2 Good amount of clustering (･o･)\n",
      "2 islands\n",
      "k=1 Need more clustering （・∩・)\n",
      "2 islands\n",
      "k=2 Good amount of clustering (･o･)\n",
      "2 islands\n",
      "k=1 Need more clustering （・∩・)\n",
      "2 islands\n",
      "k=2 Good amount of clustering (･o･)\n",
      "2 islands\n",
      "k=1 Need more clustering （・∩・)\n",
      "2 islands\n",
      "k=2 Good amount of clustering (･o･)\n",
      "3 islands\n",
      "k=1 Need more clustering （・∩・)\n",
      "2 islands\n",
      "k=2 Good amount of clustering (･o･)\n",
      "2 islands\n",
      "k=1 Need more clustering （・∩・)\n",
      "2 islands\n",
      "k=2 Good amount of clustering (･o･)\n",
      "2 islands\n",
      "k=1 Need more clustering （・∩・)\n",
      "2 islands\n",
      "k=2 Good amount of clustering (･o･)\n",
      "\n"
     ]
    }
   ],
   "source": [
    "'''Choose points from specific layer and epoch'''\n",
    "data = np.load('/home/zz452/cluster/data/modelTishby_0_layer_data.p')\n",
    "layer = data[-2] \n",
    "n_epochs, n_sample, n_dim = layer.shape\n",
    "\n",
    "epochs_k = []\n",
    "for i in tqdm(range(n_epochs)):\n",
    "    points = layer[i,:,:]\n",
    "    \n",
    "    k = 1\n",
    "    while not t.k_cluster_test(points,\n",
    "                               k, \n",
    "                               l, \n",
    "                               n_verts):\n",
    "        k += 1\n",
    "    \n",
    "    epochs_k += [k]"
   ]
  },
  {
   "cell_type": "code",
   "execution_count": 4,
   "metadata": {},
   "outputs": [
    {
     "data": {
      "text/plain": [
       "[<matplotlib.lines.Line2D at 0x7f8648d0e7b8>]"
      ]
     },
     "execution_count": 4,
     "metadata": {},
     "output_type": "execute_result"
    },
    {
     "data": {
      "image/png": "[encoded data removed]",
      "text/plain": [
       "<Figure size 432x288 with 1 Axes>"
      ]
     },
     "metadata": {},
     "output_type": "display_data"
    }
   ],
   "source": [
    "plt.plot(epochs_k)"
   ]
  }
 ],
 "metadata": {
  "kernelspec": {
   "display_name": "Python 3",
   "language": "python",
   "name": "python3"
  },
  "language_info": {
   "codemirror_mode": {
    "name": "ipython",
    "version": 3
   },
   "file_extension": ".py",
   "mimetype": "text/x-python",
   "name": "python",
   "nbconvert_exporter": "python",
   "pygments_lexer": "ipython3",
   "version": "3.6.8"
  }
 },
 "nbformat": 4,
 "nbformat_minor": 2
}
