{
 "cells": [
  {
   "cell_type": "code",
   "execution_count": null,
   "metadata": {},
   "outputs": [],
   "source": [
    "import pandas as pd\n",
    "import matplotlib.pyplot as plt\n",
    "import seaborn as sns\n",
    "from collections import Counter\n",
    "import random\n",
    "from tqdm import tqdm\n",
    "import numpy as np\n",
    "from sklearn.datasets.samples_generator import make_blobs\n",
    "from sklearn.cluster import SpectralClustering, AffinityPropagation\n",
    "import scipy\n",
    "from scipy.sparse import csgraph\n",
    "\n",
    "from numpy import linalg as LA\n",
    "import utils\n",
    "plt.ion()\n",
    "plt.show()"
   ]
  },
  {
   "cell_type": "code",
   "execution_count": null,
   "metadata": {},
   "outputs": [],
   "source": [
    "import matplotlib\n",
    "import tools as t\n",
    "import numpy as np\n",
    "import seaborn as sns\n",
    "import matplotlib.pyplot as plt\n",
    "from scipy.sparse import csr_matrix\n",
    "from scipy import spatial\n",
    "from mpl_toolkits.mplot3d import Axes3D\n",
    "from scipy.sparse.csgraph import connected_components\n",
    "from sklearn.metrics import pairwise_kernels\n",
    "from sklearn.metrics.pairwise import rbf_kernel\n",
    "\n",
    "from networkx.algorithms.cuts import conductance\n",
    "import networkx as nx \n",
    "sns.set_style('darkgrid')\n",
    "%matplotlib inline"
   ]
  },
  {
   "cell_type": "code",
   "execution_count": null,
   "metadata": {},
   "outputs": [],
   "source": [
    "data = np.load('/home/zz452/cluster/data/modelTishby_0_layer_data.p')\n",
    "layer = data[-2] \n",
    "X = layer[40,:,:]\n",
    "fig = plt.figure(figsize=(10, 10))\n",
    "ax = fig.add_subplot(111, projection='3d')\n",
    "ax.scatter(X[:,0],\n",
    "           X[:,1], \n",
    "           X[:,2])\n",
    "ax.title.set_text('Latent Visualizer')\n",
    "\n",
    "#fig = plt.figure(figsize=(5, 5))\n",
    "#plt.hist(M_d.flatten(), log=True, bins=100)\n",
    "#plt.title('Distance Distribution')"
   ]
  },
  {
   "cell_type": "markdown",
   "metadata": {},
   "source": [
    "# 2nd smallest eigenvalue : Fiedler value: bipartitioning graph"
   ]
  },
  {
   "cell_type": "code",
   "execution_count": null,
   "metadata": {},
   "outputs": [],
   "source": [
    "perf = []\n",
    "nb_clusters = 2\n",
    "\n",
    "for idx in range(84):\n",
    "    X = layer[idx,:,:]\n",
    "    #clustering = SpectralClustering(n_clusters = nb_clusters, assign_labels=\"discretize\", random_state=0).fit(X)\n",
    "    #y_pred = clustering.labels_\n",
    "    #perf.append(utils.internalValidation(X, y_pred)['_calinski_harabaz_score'])\n",
    "    affinity_matrix = pairwise_kernels(X, metric = 'rbf')\n",
    "    D = np.diag(affinity_matrix.sum(axis=1))\n",
    "    L = D - affinity_matrix\n",
    "    vals, vecs = np.linalg.eig(L)\n",
    "\n",
    "    # sort\n",
    "    #vecs = vecs[:,np.argsort(vals)]\n",
    "    vals = vals[np.argsort(vals)]\n",
    "    print(vals[1])\n",
    "    # use Fiedler value to find best cut to separate data\n",
    "    perf.append(vals[1]) \n",
    "\n",
    "# fig = plt.figure(figsize=(10, 10))\n",
    "# ax = fig.add_subplot(111, projection='3d')\n",
    "# ax.scatter(X[:,0],\n",
    "#            X[:,1], \n",
    "#            X[:,2], c = y_pred)\n",
    "# ax.title.set_text('Latent Visualizer')\n",
    "\n",
    "\n",
    "# plt.figure(figsize=(14,6))\n",
    "# plt.subplot(111)\n",
    "# plt.title(f'Spectral clustering results ')\n",
    "# plt.scatter(X[:, 0], X[:, 1], s=50, c = y_pred);\n",
    "\n"
   ]
  },
  {
   "cell_type": "markdown",
   "metadata": {},
   "source": [
    "# Quality of clustering with silhouette coefficient"
   ]
  },
  {
   "cell_type": "code",
   "execution_count": null,
   "metadata": {},
   "outputs": [],
   "source": [
    "perf = []\n",
    "nb_clusters = 2\n",
    "\n",
    "for idx in range(84):\n",
    "    X = layer[idx,:,:]\n",
    "    clustering = SpectralClustering(n_clusters = nb_clusters, assign_labels=\"discretize\", random_state=0).fit(X)\n",
    "    y_pred = clustering.labels_\n",
    "    perf.append(utils.internalValidation(X, y_pred)['_silhouette_score'])"
   ]
  },
  {
   "cell_type": "markdown",
   "metadata": {},
   "source": [
    "# Sample conductance estimation from graph"
   ]
  },
  {
   "cell_type": "code",
   "execution_count": null,
   "metadata": {},
   "outputs": [],
   "source": [
    "affinity_matrix = pairwise_kernels(X, metric = 'rbf')\n",
    "G=nx.from_numpy_matrix(affinity_matrix)\n",
    "conductance(G, np.where(y_pred==0)[0], np.where(y_pred==1)[0])"
   ]
  },
  {
   "cell_type": "markdown",
   "metadata": {},
   "source": [
    "# Eigenvalue Heuristic"
   ]
  },
  {
   "cell_type": "code",
   "execution_count": null,
   "metadata": {},
   "outputs": [],
   "source": [
    "\n",
    "def eigenDecomposition(A, plot = True, topK = 5):\n",
    "    \"\"\"\n",
    "    :param A: Affinity matrix\n",
    "    :param plot: plots the sorted eigen values for visual inspection\n",
    "    :return A tuple containing:\n",
    "    - the optimal number of clusters by eigengap heuristic\n",
    "    - all eigen values\n",
    "    - all eigen vectors\n",
    "    \n",
    "    This method performs the eigen decomposition on a given affinity matrix,\n",
    "    following the steps recommended in the paper:\n",
    "    1. Construct the normalized affinity matrix: L = D−1/2ADˆ −1/2.\n",
    "    2. Find the eigenvalues and their associated eigen vectors\n",
    "    3. Identify the maximum gap which corresponds to the number of clusters\n",
    "    by eigengap heuristic\n",
    "    \n",
    "    References:\n",
    "    https://papers.nips.cc/paper/2619-self-tuning-spectral-clustering.pdf\n",
    "    http://www.kyb.mpg.de/fileadmin/user_upload/files/publications/attachments/Luxburg07_tutorial_4488%5b0%5d.pdf\n",
    "    \"\"\"\n",
    "    L = csgraph.laplacian(A, normed=True)\n",
    "    n_components = A.shape[0]\n",
    "    \n",
    "    # LM parameter : Eigenvalues with largest magnitude (eigs, eigsh), that is, largest eigenvalues in \n",
    "    # the euclidean norm of complex numbers.\n",
    "#     eigenvalues, eigenvectors = eigsh(L, k=n_components, which=\"LM\", sigma=1.0, maxiter=5000)\n",
    "    eigenvalues, eigenvectors = LA.eig(L)\n",
    "    eigenvalues = np.sort(np.real(eigenvalues))\n",
    "    if plot:\n",
    "        plt.title('Largest eigen values of input matrix')\n",
    "        plt.scatter(np.arange(len(eigenvalues)), eigenvalues)\n",
    "        plt.grid()\n",
    "        \n",
    "    # Identify the optimal number of clusters as the index corresponding\n",
    "    # to the larger gap between eigen values\n",
    "    index_largest_gap = np.argsort(np.diff(eigenvalues))[::-1][:topK]\n",
    "    nb_clusters = index_largest_gap + 1\n",
    "        \n",
    "    return nb_clusters, eigenvalues, eigenvectors"
   ]
  },
  {
   "cell_type": "code",
   "execution_count": null,
   "metadata": {},
   "outputs": [],
   "source": [
    "# affinity_matrix = pairwise_kernels(X, metric = 'rbf')\n",
    "affinity_matrix = rbf_kernel(X,  gamma=1)\n",
    "k,  eigenvalues, eigenvectors = eigenDecomposition(affinity_matrix)\n",
    "print(f'Optimal number of clusters {k}')"
   ]
  },
  {
   "cell_type": "code",
   "execution_count": null,
   "metadata": {},
   "outputs": [],
   "source": [
    "f"
   ]
  }
 ],
 "metadata": {
  "kernelspec": {
   "display_name": "Python 3",
   "language": "python",
   "name": "python3"
  },
  "language_info": {
   "codemirror_mode": {
    "name": "ipython",
    "version": 3
   },
   "file_extension": ".py",
   "mimetype": "text/x-python",
   "name": "python",
   "nbconvert_exporter": "python",
   "pygments_lexer": "ipython3",
   "version": "3.6.8"
  }
 },
 "nbformat": 4,
 "nbformat_minor": 2
}
