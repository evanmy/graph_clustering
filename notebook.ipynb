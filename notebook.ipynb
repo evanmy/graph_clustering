{
 "cells": [
  {
   "cell_type": "markdown",
   "metadata": {},
   "source": [
    "### Libraries"
   ]
  },
  {
   "cell_type": "code",
   "execution_count": 1,
   "metadata": {},
   "outputs": [],
   "source": [
    "import numpy as np\n",
    "from scipy import spatial\n",
    "\n",
    "import matplotlib\n",
    "import matplotlib.pyplot as plt\n",
    "%matplotlib inline"
   ]
  },
  {
   "cell_type": "markdown",
   "metadata": {},
   "source": [
    "### Hyperparameters"
   ]
  },
  {
   "cell_type": "code",
   "execution_count": 3,
   "metadata": {},
   "outputs": [],
   "source": [
    "k = 2 \n",
    "l = 10\n",
    "n_verts = 120"
   ]
  },
  {
   "cell_type": "markdown",
   "metadata": {},
   "source": [
    "### Create Affinity Matrix"
   ]
  },
  {
   "cell_type": "code",
   "execution_count": 4,
   "metadata": {},
   "outputs": [],
   "source": [
    "data = np.load('/home/zz452/cluster/data/modelTishby_0_layer_data.p')\n",
    "layer = data[-2] \n",
    "n_epochs, n_sample, n_dim = layer.shape\n",
    "points = layer[50,:,:]\n",
    "\n",
    "dist_thrshld = 0.01\n",
    "M_d = spatial.distance_matrix(points,\n",
    "                              points,\n",
    "                              p=2)**2\n",
    "mask = M_d<dist_thrshld\n",
    "remove_diag = np.eye(n_sample)==0\n",
    "mask = remove_diag*mask\n",
    "\n",
    "stay_prob = np.eye(n_sample)*0.5\n",
    "d = mask.sum(0).max()\n",
    "move_prob = 1/(2*d)\n",
    "\n",
    "M = move_prob*mask + stay_prob\n",
    "add_self_loop = np.diag(1-M.sum(0))\n",
    "M = M + add_self_loop\n",
    "M = M.astype('float32')"
   ]
  },
  {
   "cell_type": "markdown",
   "metadata": {},
   "source": [
    "### Random Sample of Vertices"
   ]
  },
  {
   "cell_type": "code",
   "execution_count": 6,
   "metadata": {},
   "outputs": [],
   "source": [
    "# create a mask so that we dont sample verteces that are not connected to anything \n",
    "singles_mask = mask.sum(0)>0\n",
    "singles_mask = singles_mask.reshape(-1,1)\n",
    "\n",
    "#total number of vertices that are connected (not to itself)\n",
    "n = (mask.sum(0) > 0).sum() \n",
    "\n",
    "S = np.random.random_sample((M.shape[1], \n",
    "                             n_verts))\n",
    "S = S*singles_mask\n",
    "S = (S.max(axis=0,keepdims=1) == S)*1\n",
    "S = S.astype('float32')"
   ]
  },
  {
   "cell_type": "markdown",
   "metadata": {},
   "source": [
    "### Random Walk"
   ]
  },
  {
   "cell_type": "code",
   "execution_count": 7,
   "metadata": {},
   "outputs": [],
   "source": [
    "M_l = np.linalg.matrix_power(M, l)\n",
    "S_l = np.matmul(M_l, S)\n",
    "p_l2 = np.linalg.norm(S_l, ord=2, axis=0)**2\n",
    "sigma = 192*n_verts*k/n\n",
    "keep_idx = p_l2<sigma\n",
    "\n",
    "'''\n",
    "TODO: put a function that sample more vertices if it doesnt pass the sigma test'\n",
    "【・ヘ・】\n",
    "'''\n",
    "assert len(keep_idx)==n_verts, 'Sample more vertices, didnt pass sigma test'"
   ]
  },
  {
   "cell_type": "markdown",
   "metadata": {},
   "source": [
    "### Similarlity Graph"
   ]
  },
  {
   "cell_type": "code",
   "execution_count": 18,
   "metadata": {},
   "outputs": [],
   "source": [
    "H = spatial.distance_matrix(np.swapaxes(S_l,0,1),\n",
    "                            np.swapaxes(S_l,0,1),\n",
    "                            p=2)**2\n",
    "remove_diag = np.eye(n_verts)*9999\n",
    "H = H+remove_diag\n",
    "H = H<=1/(4*n)"
   ]
  },
  {
   "cell_type": "code",
   "execution_count": 19,
   "metadata": {},
   "outputs": [
    {
     "data": {
      "text/plain": [
       "<matplotlib.image.AxesImage at 0x7efc463da748>"
      ]
     },
     "execution_count": 19,
     "metadata": {},
     "output_type": "execute_result"
    },
    {
     "data": {
      "image/png": "[encoded data removed]",
      "text/plain": [
       "<Figure size 432x288 with 1 Axes>"
      ]
     },
     "metadata": {},
     "output_type": "display_data"
    }
   ],
   "source": [
    "plt.imshow(H)"
   ]
  }
 ],
 "metadata": {
  "kernelspec": {
   "display_name": "Python 3",
   "language": "python",
   "name": "python3"
  },
  "language_info": {
   "codemirror_mode": {
    "name": "ipython",
    "version": 3
   },
   "file_extension": ".py",
   "mimetype": "text/x-python",
   "name": "python",
   "nbconvert_exporter": "python",
   "pygments_lexer": "ipython3",
   "version": "3.6.8"
  }
 },
 "nbformat": 4,
 "nbformat_minor": 2
}
