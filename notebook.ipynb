{
 "cells": [
  {
   "cell_type": "markdown",
   "metadata": {},
   "source": [
    "### Libraries"
   ]
  },
  {
   "cell_type": "code",
   "execution_count": null,
   "metadata": {},
   "outputs": [],
   "source": [
    "import matplotlib\n",
    "import tools as t\n",
    "import numpy as np\n",
    "import seaborn as sns\n",
    "import matplotlib.pyplot as plt\n",
    "\n",
    "from scipy import spatial\n",
    "from scipy.sparse import csr_matrix\n",
    "from mpl_toolkits.mplot3d import Axes3D\n",
    "from scipy.sparse.csgraph import connected_components\n",
    "\n",
    "sns.set_style('darkgrid')\n",
    "%matplotlib inline"
   ]
  },
  {
   "cell_type": "markdown",
   "metadata": {},
   "source": [
    "### Hyperparameters"
   ]
  },
  {
   "cell_type": "code",
   "execution_count": null,
   "metadata": {},
   "outputs": [],
   "source": [
    "k = 2 \n",
    "l = 500\n",
    "n_verts = 30\n",
    "dist_thrshld = 2.5"
   ]
  },
  {
   "cell_type": "markdown",
   "metadata": {},
   "source": [
    "### Create Affinity Matrix"
   ]
  },
  {
   "cell_type": "code",
   "execution_count": null,
   "metadata": {},
   "outputs": [],
   "source": [
    "'''Choose points from specific layer and epoch'''\n",
    "data = np.load('/home/zz452/cluster/data/modelTishby_0_layer_data.p')\n",
    "layer = data[-2] \n",
    "n_epochs, n_sample, n_dim = layer.shape\n",
    "points = layer[-1,:,:]\n",
    "\n",
    "M_d = spatial.distance_matrix(points,\n",
    "                              points,\n",
    "                              p=2)**2\n",
    "mask = M_d<dist_thrshld\n",
    "remove_diag = np.eye(n_sample)==0\n",
    "mask = remove_diag*mask\n",
    "\n",
    "stay_prob = np.eye(n_sample)*0.5\n",
    "d = mask.sum(0).max()\n",
    "move_prob = 1/(2*d)\n",
    "\n",
    "M = move_prob*mask + stay_prob\n",
    "add_self_loop = np.diag(1-M.sum(0))\n",
    "M = M + add_self_loop\n",
    "M = M.astype('float32')\n",
    "\n",
    "'''Visualize'''\n",
    "fig = plt.figure(figsize=(10, 10))\n",
    "ax = fig.add_subplot(111, projection='3d')\n",
    "ax.scatter(points[:,0],\n",
    "           points[:,1], \n",
    "           points[:,2])\n",
    "ax.title.set_text('Latent Visualizer')\n",
    "\n",
    "fig = plt.figure(figsize=(5, 5))\n",
    "plt.hist(M_d.flatten(), log=True, bins=100)\n",
    "plt.title('Distance Distribution')"
   ]
  },
  {
   "cell_type": "markdown",
   "metadata": {},
   "source": [
    "### Random Sample of Vertices"
   ]
  },
  {
   "cell_type": "code",
   "execution_count": null,
   "metadata": {},
   "outputs": [],
   "source": [
    "# create a mask so that we dont sample verteces that are not connected to anything \n",
    "singles_mask = mask.sum(0)>0\n",
    "singles_mask = singles_mask.reshape(-1,1)\n",
    "\n",
    "#total number of vertices that are connected (not to itself)\n",
    "n = (mask.sum(0) > 0).sum() \n",
    "\n",
    "S = np.random.random_sample((M.shape[1], \n",
    "                             n_verts))\n",
    "S = S*singles_mask\n",
    "S = (S.max(axis=0,keepdims=1) == S)*1\n",
    "S = S.astype('float32')"
   ]
  },
  {
   "cell_type": "markdown",
   "metadata": {},
   "source": [
    "### Random Walk"
   ]
  },
  {
   "cell_type": "code",
   "execution_count": null,
   "metadata": {},
   "outputs": [],
   "source": [
    "M_l = np.linalg.matrix_power(M, l)\n",
    "S_l = np.matmul(M_l, S)\n",
    "p_l2 = np.linalg.norm(S_l, ord=2, axis=0)**2\n",
    "sigma = 192*n_verts*k/n\n",
    "keep_idx = p_l2<sigma\n",
    "\n",
    "'''\n",
    "TODO: put a function that sample more vertices if it doesnt pass the sigma test'\n",
    "【・ヘ・】\n",
    "'''\n",
    "assert len(keep_idx)==n_verts, 'Sample more vertices, didnt pass sigma test'"
   ]
  },
  {
   "cell_type": "markdown",
   "metadata": {},
   "source": [
    "### Similarlity Graph"
   ]
  },
  {
   "cell_type": "code",
   "execution_count": null,
   "metadata": {},
   "outputs": [],
   "source": [
    "H = spatial.distance_matrix(np.swapaxes(S_l,0,1),\n",
    "                            np.swapaxes(S_l,0,1),\n",
    "                            p=2)**2\n",
    "remove_diag = np.eye(n_verts)*9999\n",
    "H = H+remove_diag\n",
    "H = H<=1/(4*n)\n",
    "\n",
    "graph = csr_matrix(H)\n",
    "n_components, labels = connected_components(csgraph=graph, directed=False, return_labels=True)\n",
    "\n",
    "print('{} islands'.format(n_components))\n",
    "if n_components>k:\n",
    "    print('Need more clustering （・∩・)')\n",
    "else:\n",
    "    print('Good amount of clustering (･o･)')"
   ]
  }
 ],
 "metadata": {
  "kernelspec": {
   "display_name": "Python 3",
   "language": "python",
   "name": "python3"
  },
  "language_info": {
   "codemirror_mode": {
    "name": "ipython",
    "version": 3
   },
   "file_extension": ".py",
   "mimetype": "text/x-python",
   "name": "python",
   "nbconvert_exporter": "python",
   "pygments_lexer": "ipython3",
   "version": "3.6.8"
  }
 },
 "nbformat": 4,
 "nbformat_minor": 2
}
